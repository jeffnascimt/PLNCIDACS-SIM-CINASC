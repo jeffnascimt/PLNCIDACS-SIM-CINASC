{
 "cells": [
  {
   "cell_type": "markdown",
   "metadata": {},
   "source": [
    "# BASE SINTÉTICA SIMULADA - SINASC E SIM"
   ]
  },
  {
   "cell_type": "code",
   "execution_count": 1,
   "metadata": {},
   "outputs": [],
   "source": [
    "# Carregando os pacotes\n",
    "import findspark\n",
    "findspark.init(\"/opt/spark\")\n",
    "from pyspark.sql import SparkSession\n",
    "from pyspark.sql.types import StructField, StructType, StringType, IntegerType\n",
    "\n",
    "from pyspark.sql import SparkSession\n",
    "from pyspark.sql.types import ArrayType, StructField, StructType, StringType, IntegerType\n",
    "\n",
    "appName = \"PySpark Example - Python Array/List to Spark Data Frame\"\n",
    "master = \"local\"\n",
    "\n",
    "# Create Spark session\n",
    "spark = SparkSession.builder \\\n",
    "    .appName(appName) \\\n",
    "    .master(master) \\\n",
    "    .getOrCreate()\n",
    "import pandas as pd\n",
    "sc = spark.sparkContext\n",
    "import csv\n",
    "import pyspark.sql.functions as F\n",
    "import pyspark.sql.types as T\n",
    "import random\n",
    "import os\n",
    "import re"
   ]
  },
  {
   "cell_type": "code",
   "execution_count": null,
   "metadata": {},
   "outputs": [],
   "source": [
    "# from pyspark.sql.types import StructType,StructField, StringType, IntegerType"
   ]
  },
  {
   "cell_type": "markdown",
   "metadata": {},
   "source": [
    "# SIMULANDO BASE SINASC"
   ]
  },
  {
   "cell_type": "code",
   "execution_count": 2,
   "metadata": {},
   "outputs": [
    {
     "name": "stdout",
     "output_type": "stream",
     "text": [
      "root\n",
      " |-- idcinasc: string (nullable = true)\n",
      " |-- munic_nascimento: string (nullable = true)\n",
      " |-- datanasc: string (nullable = true)\n",
      " |-- sexo: string (nullable = true)\n",
      " |-- pesonasci: string (nullable = true)\n",
      " |-- racacor: string (nullable = true)\n",
      " |-- idademae: string (nullable = true)\n",
      " |-- escolaridade: string (nullable = true)\n",
      " |-- estadocivil: string (nullable = true)\n",
      " |-- numfilhos_vivos_anteriores: string (nullable = true)\n",
      " |-- idadegestacional: string (nullable = true)\n",
      " |-- tipoparto: string (nullable = true)\n",
      " |-- Numero_Consultas_PNatal: string (nullable = true)\n",
      " |-- nome: string (nullable = true)\n",
      " |-- score_Linkage: string (nullable = true)\n",
      "\n",
      "+--------+----------------+----------+----+---------+-------+--------+------------+-----------+--------------------------+----------------+---------+-----------------------+------------------------+-------------+\n",
      "|idcinasc|munic_nascimento|datanasc  |sexo|pesonasci|racacor|idademae|escolaridade|estadocivil|numfilhos_vivos_anteriores|idadegestacional|tipoparto|Numero_Consultas_PNatal|nome                    |score_Linkage|\n",
      "+--------+----------------+----------+----+---------+-------+--------+------------+-----------+--------------------------+----------------+---------+-----------------------+------------------------+-------------+\n",
      "|001     |530010          |04-07-1993|M   |3        |preta  |38      |medio       |solteiro   |2                         |3               |1        |1                      |ADRIANO ANDRADE SANTOS  |1            |\n",
      "|002     |522155          |02-11-1978|M   |4        |preta  |45      |medio       |solteiro   |2                         |5               |2        |1                      |ANTONIA RAIMUNDO CESAR  |95           |\n",
      "|003     |522130          |02-09-1987|F   |5        |preta  |32      |medio       |solteiro   |2                         |6               |1        |1                      |MARIA SANTANA DE JESUS  |99           |\n",
      "|004     |522100          |05-06-1988|F   |3        |preta  |39      |sup         |solteiro   |2                         |3               |2        |1                      |ACILENE DANTAS SILVA    |1            |\n",
      "|005     |522160          |04-07-1979|M   |4        |branca |43      |medio       |solteiro   |2                         |2               |1        |1                      |VAILTON DOS SANTOS      |1            |\n",
      "|006     |522230          |05-05-1994|F   |3.6      |preta  |37      |medio       |solteiro   |2                         |1               |1        |2                      |ADALGISA SANTANA        |98           |\n",
      "|007     |522140          |01-07-1978|F   |4        |preta  |43      |primario    |solteiro   |2                         |4               |2        |1                      |ADAIAS OLIVEIRA OLIVEIRA|1            |\n",
      "|008     |522150          |09-07-1980|F   |3.4      |branca |41      |sup         |solteiro   |2                         |5               |2        |2                      |ADELAIDE SILVA PEREIRA  |98           |\n",
      "|009     |522157          |02-03-1993|F   |3.5      |preta  |39      |medio       |solteiro   |2                         |6               |1        |1                      |ACASSIA PIRES           |1            |\n",
      "|010     |522160          |04-06-1988|M   |3        |preta  |36      |primario    |solteiro   |2                         |4               |2        |2                      |VAILTON COUTINHO        |1            |\n",
      "|011     |522150          |24-06-1985|F   |3        |preta  |37      |sup         |solteiro   |2                         |5               |1        |1                      |001 MARINA              |1            |\n",
      "|012     |522145          |06-07-1999|F   |2        |preta  |40      |medio       |solteiro   |2                         |3               |1        |1                      |MARIA VICTORIA          |95           |\n",
      "|013     |522200          |09-08-1981|F   |3        |branca |41      |medio       |solteiro   |2                         |4               |1        |1                      |ADELAIDE SILVA          |98           |\n",
      "|014     |522160          |10-06-1989|F   |2.5      |preta  |36      |medio       |solteiro   |2                         |2               |2        |2                      |ACASSIA LIMA            |1            |\n",
      "|015     |522157          |03-09-1977|M   |4        |preta  |48      |sup         |solteiro   |2                         |2               |1        |2                      |ABANI MENDES            |1            |\n",
      "|016     |522155          |03-09-1986|M   |3.4      |branca |35      |medio       |solteiro   |3                         |3               |1        |3                      |ABEL COSTA              |98           |\n",
      "|017     |522157          |06-12-1983|F   |3.2      |preta  |39      |primario    |solteiro   |1                         |3               |1        |1                      |MARIA PAULA SANTOS      |1            |\n",
      "|018     |522130          |08-07-1988|M   |4        |preta  |36      |medio       |solteiro   |2                         |3               |1        |2                      |VAILTON COUTINHO        |96           |\n",
      "|019     |522108          |03-07-1985|F   |3.4      |preta  |34      |sup         |solteiro   |2                         |2               |2        |1                      |ADAIAS OLIVEIRA SILVA   |1            |\n",
      "|020     |522155          |09-06-1984|F   |3.5      |preta  |33      |medio       |solteiro   |2                         |3               |2        |1                      |CAMILA SILVA SANTORO    |98           |\n",
      "+--------+----------------+----------+----+---------+-------+--------+------------+-----------+--------------------------+----------------+---------+-----------------------+------------------------+-------------+\n",
      "only showing top 20 rows\n",
      "\n"
     ]
    }
   ],
   "source": [
    "# SIMULANDO BASE DE DADOS SIM\n",
    "\n",
    "BASE_SINASC = [(\"001\",\"530010\",\"04-07-1993\",\"M\",\"3\",\"preta\",\"38\",\"medio\",\"solteiro\",\"2\",\"3\",\"1\",\"1\",\"ADRIANO ANDRADE SANTOS\",\"1\"),\n",
    "              (\"002\",\"522155\",\"02-11-1978\",\"M\",\"4\",\"preta\",\"45\",\"medio\",\"solteiro\",\"2\",\"5\",\"2\",\"1\",\"ANTONIA RAIMUNDO CESAR\",\"95\"),\n",
    "               (\"003\",\"522130\",\"02-09-1987\",\"F\",\"5\",\"preta\",\"32\",\"medio\",\"solteiro\",\"2\",\"6\",\"1\",\"1\",\"MARIA SANTANA DE JESUS\",\"99\"),\n",
    "              (\"004\",\"522100\",\"05-06-1988\",\"F\",\"3\",\"preta\",\"39\",\"sup\",\"solteiro\",\"2\",\"3\",\"2\",\"1\",\"ACILENE DANTAS SILVA\",\"1\"),\n",
    "              (\"005\",\"522160\",\"04-07-1979\",\"M\",\"4\",\"branca\",\"43\",\"medio\",\"solteiro\",\"2\",\"2\",\"1\",\"1\",\"VAILTON DOS SANTOS\",\"1\"),\n",
    "              (\"006\",\"522230\",\"05-05-1994\",\"F\",\"3.6\",\"preta\",\"37\",\"medio\",\"solteiro\",\"2\",\"1\",\"1\",\"2\",\"ADALGISA SANTANA\",\"98\"),\n",
    "              (\"007\",\"522140\",\"01-07-1978\",\"F\",\"4\",\"preta\",\"43\",\"primario\",\"solteiro\",\"2\",\"4\",\"2\",\"1\",\"ADAIAS OLIVEIRA OLIVEIRA\",\"1\"),\n",
    "              (\"008\",\"522150\",\"09-07-1980\",\"F\",\"3.4\",\"branca\",\"41\",\"sup\",\"solteiro\",\"2\",\"5\",\"2\",\"2\",\"ADELAIDE SILVA PEREIRA\",\"98\"),\n",
    "              (\"009\",\"522157\",\"02-03-1993\",\"F\",\"3.5\",\"preta\",\"39\",\"medio\",\"solteiro\",\"2\",\"6\",\"1\",\"1\",\"ACASSIA PIRES\",\"1\"),\n",
    "              (\"010\",\"522160\",\"04-06-1988\",\"M\",\"3\",\"preta\",\"36\",\"primario\",\"solteiro\",\"2\",\"4\",\"2\",\"2\",\"VAILTON COUTINHO\",\"1\"),\n",
    "              (\"011\",\"522150\",\"24-06-1985\",\"F\",\"3\",\"preta\",\"37\",\"sup\",\"solteiro\",\"2\",\"5\",\"1\",\"1\",\"001 MARINA\",\"1\"),\n",
    "               (\"012\",\"522145\",\"06-07-1999\",\"F\",\"2\",\"preta\",\"40\",\"medio\",\"solteiro\",\"2\",\"3\",\"1\",\"1\",\"MARIA VICTORIA\",\"95\"),\n",
    "              (\"013\",\"522200\",\"09-08-1981\",\"F\",\"3\",\"branca\",\"41\",\"medio\",\"solteiro\",\"2\",\"4\",\"1\",\"1\",\"ADELAIDE SILVA\",\"98\"),\n",
    "              (\"014\",\"522160\",\"10-06-1989\",\"F\",\"2.5\",\"preta\",\"36\",\"medio\",\"solteiro\",\"2\",\"2\",\"2\",\"2\",\"ACASSIA LIMA\",\"1\"),\n",
    "               (\"015\",\"522157\",\"03-09-1977\",\"M\",\"4\",\"preta\",\"48\",\"sup\",\"solteiro\",\"2\",\"2\",\"1\",\"2\",\"ABANI MENDES\",\"1\"),\n",
    "              (\"016\",\"522155\",\"03-09-1986\",\"M\",\"3.4\",\"branca\",\"35\",\"medio\",\"solteiro\",\"3\",\"3\",\"1\",\"3\",\"ABEL COSTA\",\"98\"),\n",
    "              (\"017\",\"522157\",\"06-12-1983\",\"F\",\"3.2\",\"preta\",\"39\",\"primario\",\"solteiro\",\"1\",\"3\",\"1\",\"1\",\"MARIA PAULA SANTOS\",\"1\"),\n",
    "               (\"018\",\"522130\",\"08-07-1988\",\"M\",\"4\",\"preta\",\"36\",\"medio\",\"solteiro\",\"2\",\"3\",\"1\",\"2\",\"VAILTON COUTINHO\",\"96\"),\n",
    "               (\"019\",\"522108\",\"03-07-1985\",\"F\",\"3.4\",\"preta\",\"34\",\"sup\",\"solteiro\",\"2\",\"2\",\"2\",\"1\",\"ADAIAS OLIVEIRA SILVA\",\"1\"),\n",
    "              (\"020\",\"522155\",\"09-06-1984\",\"F\",\"3.5\",\"preta\",\"33\",\"medio\",\"solteiro\",\"2\",\"3\",\"2\",\"1\",\"CAMILA SILVA SANTORO\",\"98\"),\n",
    "              (\"021\",\"522190\",\"06-06-1999\",\"M\",\"5\",\"preta\",\"34\",\"primario\",\"solteiro\",\"2\",\"2\",\"1\",\"1\",\"ADRIANO SOUZA DE SANTANA\",\"1\"),\n",
    "              (\"022\",\"522205\",\"03-04-1986\",\"F\",\"5\",\"branca\",\"35\",\"medio\",\"solteiro\",\"2\",\"5\",\"1\",\"1\",\"MARIA PAULA\",\"97\"),\n",
    "              (\"023\",\"522140\",\"01-05-1984\",\"M\",\"3.2\",\"preta\",\"39\",\"medio\",\"solteiro\",\"2\",\"3\",\"1\",\"1\",\"ADALBERTO VALETIN\",\"1\")\n",
    "                ]\n",
    "\n",
    "schema = StructType([\\\n",
    "                     StructField(\"idcinasc\",StringType(),True), \\\n",
    "                     StructField(\"munic_nascimento\",StringType(),True), \\\n",
    "                     StructField(\"datanasc\",StringType(),True), \\\n",
    "                     StructField(\"sexo\",StringType(),True), \\\n",
    "                     StructField(\"pesonasci\",StringType(),True), \\\n",
    "                     StructField(\"racacor\",StringType(),True), \\\n",
    "                     StructField(\"idademae\",StringType(),True), \\\n",
    "                     StructField(\"escolaridade\",StringType(),True), \\\n",
    "                     StructField(\"estadocivil\",StringType(),True), \\\n",
    "                     StructField(\"numfilhos_vivos_anteriores\",StringType(),True), \\\n",
    "                     StructField(\"idadegestacional\",StringType(),True), \\\n",
    "                     StructField(\"tipoparto\",StringType(),True), \\\n",
    "                     StructField(\"Numero_Consultas_PNatal\",StringType(),True), \\\n",
    "                     StructField(\"nome\",StringType(), True), \\\n",
    "                     StructField(\"score_Linkage\",StringType(),True) \\\n",
    "                    ])\n",
    "\n",
    "BASE_SINASC = spark.createDataFrame(data=BASE_SINASC,schema=schema)\n",
    "BASE_SINASC.printSchema()\n",
    "BASE_SINASC.show(truncate=False)"
   ]
  },
  {
   "cell_type": "code",
   "execution_count": 7,
   "metadata": {},
   "outputs": [
    {
     "name": "stdout",
     "output_type": "stream",
     "text": [
      "+--------+----------------+--------+----+---------+-------+--------+------------+-----------+--------------------------+----------------+---------+-----------------------+----+-------------+\n",
      "|idcinasc|munic_nascimento|datanasc|sexo|pesonasci|racacor|idademae|escolaridade|estadocivil|numfilhos_vivos_anteriores|idadegestacional|tipoparto|Numero_Consultas_PNatal|nome|score_Linkage|\n",
      "+--------+----------------+--------+----+---------+-------+--------+------------+-----------+--------------------------+----------------+---------+-----------------------+----+-------------+\n",
      "|       0|               0|       0|   0|        0|      0|       0|           0|          0|                         0|               0|        0|                      0|   0|            0|\n",
      "+--------+----------------+--------+----+---------+-------+--------+------------+-----------+--------------------------+----------------+---------+-----------------------+----+-------------+\n",
      "\n"
     ]
    }
   ],
   "source": [
    "# Função para contar erros como: NAs, NULL\n",
    "from pyspark.sql.functions import col,isnan,when,count\n",
    "BASE_SINASC_ERROS = BASE_SINASC.select([count(when(col(c).contains('NULL') | \\\n",
    "                            col(c).contains('None') | \\\n",
    "                            (col(c) == '' ) | \\\n",
    "                            col(c).isNull() | \\\n",
    "                            isnan(c), c \n",
    "                           )).alias(c)\n",
    "                    for c in BASE_SINASC.columns])\n",
    "\n",
    "BASE_SINASC_ERROS.show()"
   ]
  },
  {
   "cell_type": "code",
   "execution_count": 8,
   "metadata": {},
   "outputs": [],
   "source": [
    "# FUNÇÃO PARA SEPARAR O PRIMEIRO NOME\n",
    "\n",
    "def primeiro_nome(nome):\n",
    "    if nome:\n",
    "        # Separa o nome baseado no delimitador de espaço em branco\n",
    "        nome = nome.split(\" \")\n",
    "        \n",
    "        # Retorna o primeiro nome\n",
    "        if len(nome[0]) > 0:\n",
    "            return nome[0]\n",
    "        else:\n",
    "            return \"\"\n",
    "    else:\n",
    "        return None\n",
    "\n",
    "udf_primeiro_nome = F.udf(primeiro_nome, T.StringType())"
   ]
  },
  {
   "cell_type": "code",
   "execution_count": 9,
   "metadata": {},
   "outputs": [],
   "source": [
    "# FUNÇÃO PARA SEPARAR O SEGUNDO NOME\n",
    "\n",
    "def segundo_nome(nome):\n",
    "    if nome:\n",
    "        # Separa o nome baseado no delimitador de espaço em branco\n",
    "        nome = nome.split(\" \")\n",
    "        \n",
    "        # Verifica se existe um segundo nome\n",
    "        if len(nome) > 1:\n",
    "            # Retorna o segundo nome\n",
    "            if len(nome[1]) > 0:\n",
    "                return nome[1]\n",
    "            else:\n",
    "                return \"\"\n",
    "        else:\n",
    "            return \"\"    \n",
    "    else:\n",
    "        return None\n",
    "\n",
    "udf_segundo_nome = F.udf(segundo_nome, T.StringType())"
   ]
  },
  {
   "cell_type": "code",
   "execution_count": 11,
   "metadata": {},
   "outputs": [],
   "source": [
    "# FUNÇÃO PARA SEPARAR O TERCEIRO NOME\n",
    "\n",
    "def terceiro_nome(nome):\n",
    "    if nome:\n",
    "        # Separa o nome baseado no delimitador de espaço em branco\n",
    "        nome = nome.split(\" \")\n",
    "        \n",
    "        # Verifica se existe um segundo nome\n",
    "        if len(nome) > 2:\n",
    "            # Retorna o segundo nome\n",
    "            if len(nome[2]) > 1:\n",
    "                return nome[2]\n",
    "            else:\n",
    "                return \"\"\n",
    "        else:\n",
    "            return \"\"    \n",
    "    else:\n",
    "        return None\n",
    "\n",
    "udf_terceiro_nome = F.udf(terceiro_nome, T.StringType())"
   ]
  },
  {
   "cell_type": "code",
   "execution_count": 12,
   "metadata": {},
   "outputs": [
    {
     "name": "stdout",
     "output_type": "stream",
     "text": [
      "Total Geral de Nomes:  23\n",
      "Total Distinto de Nomes:  14\n"
     ]
    }
   ],
   "source": [
    "# CRIAÇÃO DO DATAFRAME [primeiro_nome]\n",
    "\n",
    "df_Primeiro_Nome = BASE_SINASC.select(F.col(\"nome\"))\n",
    "# df_Primeiro_Nome = df_Primeiro_Nome.withColumn(\"nome\", udf_tratar_nome(F.col(\"nome\")))\n",
    "df_Primeiro_Nome = df_Primeiro_Nome.withColumn(\"nome\", udf_primeiro_nome(F.col(\"nome\")))\n",
    "df_Primeiro_Nome = df_Primeiro_Nome.withColumnRenamed('nome', 'primeiro_nome')\n",
    "\n",
    "total_geral = df_Primeiro_Nome.count()\n",
    "total_distinto = df_Primeiro_Nome.select(F.col(\"primeiro_nome\")).distinct().count()\n",
    "\n",
    "df_Primeiro_Nome = df_Primeiro_Nome.groupBy(F.col(\"primeiro_nome\")).count()\n",
    "df_Primeiro_Nome = df_Primeiro_Nome.withColumnRenamed('count', 'total')\n",
    "\n",
    "df_Primeiro_Nome = df_Primeiro_Nome.withColumn(\"percentual\", F.bround((F.col(\"total\")/total_geral)*100, 2))\n",
    "\n",
    "print(\"Total Geral de Nomes: \", total_geral)\n",
    "print(\"Total Distinto de Nomes: \", total_distinto)"
   ]
  },
  {
   "cell_type": "code",
   "execution_count": 13,
   "metadata": {},
   "outputs": [
    {
     "name": "stdout",
     "output_type": "stream",
     "text": [
      "+-------------+-----+----------+\n",
      "|primeiro_nome|total|percentual|\n",
      "+-------------+-----+----------+\n",
      "|       ADAIAS|    2|       8.7|\n",
      "|      ACILENE|    1|      4.35|\n",
      "|       CAMILA|    1|      4.35|\n",
      "|     ADALGISA|    1|      4.35|\n",
      "|        MARIA|    4|     17.39|\n",
      "|        ABANI|    1|      4.35|\n",
      "|         ABEL|    1|      4.35|\n",
      "|     ADELAIDE|    2|       8.7|\n",
      "|          001|    1|      4.35|\n",
      "|      VAILTON|    3|     13.04|\n",
      "|      ADRIANO|    2|       8.7|\n",
      "|      ANTONIA|    1|      4.35|\n",
      "|      ACASSIA|    2|       8.7|\n",
      "|    ADALBERTO|    1|      4.35|\n",
      "+-------------+-----+----------+\n",
      "\n"
     ]
    }
   ],
   "source": [
    "df_Primeiro_Nome.show()"
   ]
  },
  {
   "cell_type": "code",
   "execution_count": 14,
   "metadata": {},
   "outputs": [
    {
     "name": "stdout",
     "output_type": "stream",
     "text": [
      "+-------------+-----+----------+\n",
      "|primeiro_nome|total|percentual|\n",
      "+-------------+-----+----------+\n",
      "|        MARIA|    4|     17.39|\n",
      "|      VAILTON|    3|     13.04|\n",
      "|      ADRIANO|    2|       8.7|\n",
      "|     ADELAIDE|    2|       8.7|\n",
      "|       ADAIAS|    2|       8.7|\n",
      "|      ACASSIA|    2|       8.7|\n",
      "|      ACILENE|    1|      4.35|\n",
      "|     ADALGISA|    1|      4.35|\n",
      "|       CAMILA|    1|      4.35|\n",
      "|          001|    1|      4.35|\n",
      "|        ABANI|    1|      4.35|\n",
      "|         ABEL|    1|      4.35|\n",
      "|      ANTONIA|    1|      4.35|\n",
      "|    ADALBERTO|    1|      4.35|\n",
      "+-------------+-----+----------+\n",
      "\n"
     ]
    }
   ],
   "source": [
    "# VISUALIZAÇÃO DO RESULTADO\n",
    "\n",
    "df_Primeiro_Nome.orderBy(F.col(\"total\").desc()).show()"
   ]
  },
  {
   "cell_type": "code",
   "execution_count": 15,
   "metadata": {},
   "outputs": [
    {
     "name": "stdout",
     "output_type": "stream",
     "text": [
      "+--------+---------+\n",
      "|    nome|sobrenome|\n",
      "+--------+---------+\n",
      "| ADRIANO|  ANDRADE|\n",
      "| ANTONIA| RAIMUNDO|\n",
      "|   MARIA|  SANTANA|\n",
      "| ACILENE|   DANTAS|\n",
      "| VAILTON|      DOS|\n",
      "|ADALGISA|  SANTANA|\n",
      "|  ADAIAS| OLIVEIRA|\n",
      "|ADELAIDE|    SILVA|\n",
      "| ACASSIA|    PIRES|\n",
      "| VAILTON| COUTINHO|\n",
      "|     001|   MARINA|\n",
      "|   MARIA| VICTORIA|\n",
      "|ADELAIDE|    SILVA|\n",
      "| ACASSIA|     LIMA|\n",
      "|   ABANI|   MENDES|\n",
      "|    ABEL|    COSTA|\n",
      "|   MARIA|    PAULA|\n",
      "| VAILTON| COUTINHO|\n",
      "|  ADAIAS| OLIVEIRA|\n",
      "|  CAMILA|    SILVA|\n",
      "+--------+---------+\n",
      "only showing top 20 rows\n",
      "\n"
     ]
    }
   ],
   "source": [
    "# CRIAÇÃO DO DATAFRAME [segundo_nome]\n",
    "\n",
    "df_Segundo_Nome = BASE_SINASC.select(F.col(\"nome\"), F.col(\"nome\").alias(\"sobrenome\"))\n",
    "# df_Segundo_Nome = df_Segundo_Nome.withColumn(\"nome\", udf_tratar_nome(F.col(\"nome\")))\n",
    "df_Segundo_Nome = df_Segundo_Nome.withColumn(\"nome\", udf_primeiro_nome(F.col(\"nome\")))\n",
    "# df_Segundo_Nome = df_Segundo_Nome.withColumn(\"nome_2\", udf_tratar_nome(F.col(\"nome_2\")))\n",
    "df_Segundo_Nome = df_Segundo_Nome.withColumn(\"sobrenome\", udf_segundo_nome(F.col(\"sobrenome\")))\n",
    "df_Segundo_Nome = df_Segundo_Nome.withColumnRenamed(\"nome\", \"nome\")\n",
    "\n",
    "df_Segundo_Nome.show()"
   ]
  },
  {
   "cell_type": "code",
   "execution_count": 16,
   "metadata": {},
   "outputs": [],
   "source": [
    "from pyspark.sql.functions import unix_timestamp, from_unixtime"
   ]
  },
  {
   "cell_type": "code",
   "execution_count": 18,
   "metadata": {},
   "outputs": [
    {
     "name": "stdout",
     "output_type": "stream",
     "text": [
      "+-----------+------------+\n",
      "|segundonome|terceironome|\n",
      "+-----------+------------+\n",
      "|    ANDRADE|      SANTOS|\n",
      "|   RAIMUNDO|       CESAR|\n",
      "|    SANTANA|          DE|\n",
      "|     DANTAS|       SILVA|\n",
      "|        DOS|      SANTOS|\n",
      "|    SANTANA|            |\n",
      "|   OLIVEIRA|    OLIVEIRA|\n",
      "|      SILVA|     PEREIRA|\n",
      "|      PIRES|            |\n",
      "|   COUTINHO|            |\n",
      "|     MARINA|            |\n",
      "|   VICTORIA|            |\n",
      "|      SILVA|            |\n",
      "|       LIMA|            |\n",
      "|     MENDES|            |\n",
      "|      COSTA|            |\n",
      "|      PAULA|      SANTOS|\n",
      "|   COUTINHO|            |\n",
      "|   OLIVEIRA|       SILVA|\n",
      "|      SILVA|     SANTORO|\n",
      "+-----------+------------+\n",
      "only showing top 20 rows\n",
      "\n"
     ]
    }
   ],
   "source": [
    "# CRIAÇÃO DO DATAFRAME [Terceiro_nome]\n",
    "df_Terceiro_Nome = BASE_SINASC.select(F.col(\"nome\"), F.col(\"nome\").alias(\"terceironome\"))\n",
    "df_Terceiro_Nome = df_Terceiro_Nome.withColumn(\"nome\", udf_segundo_nome(F.col(\"nome\")))\n",
    "df_Terceiro_Nome = df_Terceiro_Nome.withColumn(\"terceironome\", udf_terceiro_nome(F.col(\"terceironome\")))\n",
    "df_Terceiro_Nome = df_Terceiro_Nome.withColumnRenamed(\"nome\", \"segundonome\")\n",
    "\n",
    "df_Terceiro_Nome.show()"
   ]
  },
  {
   "cell_type": "code",
   "execution_count": null,
   "metadata": {},
   "outputs": [],
   "source": []
  },
  {
   "cell_type": "markdown",
   "metadata": {},
   "source": [
    "# SIMULANDO BASE SIM"
   ]
  },
  {
   "cell_type": "code",
   "execution_count": 3,
   "metadata": {},
   "outputs": [
    {
     "name": "stdout",
     "output_type": "stream",
     "text": [
      "root\n",
      " |-- idcinasc: string (nullable = true)\n",
      " |-- munic_nascimento: string (nullable = true)\n",
      " |-- datanasc: string (nullable = true)\n",
      " |-- sexo: string (nullable = true)\n",
      " |-- pesonasci: string (nullable = true)\n",
      " |-- racacor: string (nullable = true)\n",
      " |-- idademae: string (nullable = true)\n",
      " |-- escolaridade: string (nullable = true)\n",
      " |-- estadocivil: string (nullable = true)\n",
      " |-- numfilhos_vivos_anteriores: string (nullable = true)\n",
      " |-- idadegestacional: string (nullable = true)\n",
      " |-- tipoparto: string (nullable = true)\n",
      " |-- Numero_Consultas_PNatal: string (nullable = true)\n",
      " |-- nome: string (nullable = true)\n",
      " |-- score_Linkage: string (nullable = true)\n",
      "\n",
      "+--------+----------------+----------+----+---------+-------+--------+------------+-----------+--------------------------+----------------+---------+-----------------------+------------------------+-------------+\n",
      "|idcinasc|munic_nascimento|datanasc  |sexo|pesonasci|racacor|idademae|escolaridade|estadocivil|numfilhos_vivos_anteriores|idadegestacional|tipoparto|Numero_Consultas_PNatal|nome                    |score_Linkage|\n",
      "+--------+----------------+----------+----+---------+-------+--------+------------+-----------+--------------------------+----------------+---------+-----------------------+------------------------+-------------+\n",
      "|001     |530010          |04-07-1993|M   |3        |preta  |38      |medio       |solteiro   |2                         |3               |1        |1                      |ADRIANO ANDRADE SANTOS  |1            |\n",
      "|002     |522155          |02-11-1978|M   |4        |preta  |45      |medio       |solteiro   |2                         |5               |2        |1                      |ANTONIA RAIMUNDO CESAR  |95           |\n",
      "|003     |522130          |02-09-1987|F   |5        |preta  |32      |medio       |solteiro   |2                         |6               |1        |1                      |MARIA SANTANA DE JESUS  |99           |\n",
      "|004     |522100          |05-06-1988|F   |3        |preta  |39      |sup         |solteiro   |2                         |3               |2        |1                      |ACILENE DANTAS SILVA    |1            |\n",
      "|005     |522160          |04-07-1979|M   |4        |branca |43      |medio       |solteiro   |2                         |2               |1        |1                      |VAILTON DOS SANTOS      |1            |\n",
      "|006     |522230          |05-05-1994|F   |3.6      |preta  |37      |medio       |solteiro   |2                         |1               |1        |2                      |ADALGISA SANTANA        |98           |\n",
      "|007     |522140          |01-07-1978|F   |4        |preta  |43      |primario    |solteiro   |2                         |4               |2        |1                      |ADAIAS OLIVEIRA OLIVEIRA|1            |\n",
      "|008     |522150          |09-07-1980|F   |3.4      |branca |41      |sup         |solteiro   |2                         |5               |2        |2                      |ADELAIDE SILVA PEREIRA  |98           |\n",
      "|009     |522157          |02-03-1993|F   |3.5      |preta  |39      |medio       |solteiro   |2                         |6               |1        |1                      |ACASSIA PIRES           |1            |\n",
      "|010     |522160          |04-06-1988|M   |3        |preta  |36      |primario    |solteiro   |2                         |4               |2        |2                      |VAILTON COUTINHO        |1            |\n",
      "|011     |522150          |24-06-1985|F   |3        |preta  |37      |sup         |solteiro   |2                         |5               |1        |1                      |001 MARINA              |1            |\n",
      "|012     |522145          |06-07-1999|F   |2        |preta  |40      |medio       |solteiro   |2                         |3               |1        |1                      |MARIA VICTORIA          |95           |\n",
      "|013     |522200          |09-08-1981|F   |3        |branca |41      |medio       |solteiro   |2                         |4               |1        |1                      |ADELAIDE SILVA          |98           |\n",
      "|014     |522160          |10-06-1989|F   |2.5      |preta  |36      |medio       |solteiro   |2                         |2               |2        |2                      |ACASSIA LIMA            |1            |\n",
      "|015     |522157          |03-09-1977|M   |4        |preta  |48      |sup         |solteiro   |2                         |2               |1        |2                      |ABANI MENDES            |1            |\n",
      "|016     |522155          |03-09-1986|M   |3.4      |branca |35      |medio       |solteiro   |3                         |3               |1        |3                      |ABEL COSTA              |98           |\n",
      "|017     |522157          |06-12-1983|F   |3.2      |preta  |39      |primario    |solteiro   |1                         |3               |1        |1                      |MARIA PAULA SANTOS      |1            |\n",
      "|018     |522130          |08-07-1988|M   |4        |preta  |36      |medio       |solteiro   |2                         |3               |1        |2                      |VAILTON COUTINHO        |96           |\n",
      "|019     |522108          |03-07-1985|F   |3.4      |preta  |34      |sup         |solteiro   |2                         |2               |2        |1                      |ADAIAS OLIVEIRA SILVA   |1            |\n",
      "|020     |522155          |09-06-1984|F   |3.5      |preta  |33      |medio       |solteiro   |2                         |3               |2        |1                      |CAMILA SILVA SANTORO    |98           |\n",
      "+--------+----------------+----------+----+---------+-------+--------+------------+-----------+--------------------------+----------------+---------+-----------------------+------------------------+-------------+\n",
      "only showing top 20 rows\n",
      "\n"
     ]
    }
   ],
   "source": [
    "# SIMULANDO BASE DE DADOS SIM\n",
    "\n",
    "BASE_SIM = [(\"001\",\"530010\",\"04-07-1993\",\"M\",\"3\",\"preta\",\"38\",\"medio\",\"solteiro\",\"2\",\"3\",\"1\",\"1\",\"ADRIANO ANDRADE SANTOS\",\"1\"),\n",
    "              (\"002\",\"522155\",\"02-11-1978\",\"M\",\"4\",\"preta\",\"45\",\"medio\",\"solteiro\",\"2\",\"5\",\"2\",\"1\",\"ANTONIA RAIMUNDO CESAR\",\"95\"),\n",
    "               (\"003\",\"522130\",\"02-09-1987\",\"F\",\"5\",\"preta\",\"32\",\"medio\",\"solteiro\",\"2\",\"6\",\"1\",\"1\",\"MARIA SANTANA DE JESUS\",\"99\"),\n",
    "              (\"004\",\"522100\",\"05-06-1988\",\"F\",\"3\",\"preta\",\"39\",\"sup\",\"solteiro\",\"2\",\"3\",\"2\",\"1\",\"ACILENE DANTAS SILVA\",\"1\"),\n",
    "              (\"005\",\"522160\",\"04-07-1979\",\"M\",\"4\",\"branca\",\"43\",\"medio\",\"solteiro\",\"2\",\"2\",\"1\",\"1\",\"VAILTON DOS SANTOS\",\"1\"),\n",
    "              (\"006\",\"522230\",\"05-05-1994\",\"F\",\"3.6\",\"preta\",\"37\",\"medio\",\"solteiro\",\"2\",\"1\",\"1\",\"2\",\"ADALGISA SANTANA\",\"98\"),\n",
    "              (\"007\",\"522140\",\"01-07-1978\",\"F\",\"4\",\"preta\",\"43\",\"primario\",\"solteiro\",\"2\",\"4\",\"2\",\"1\",\"ADAIAS OLIVEIRA OLIVEIRA\",\"1\"),\n",
    "              (\"008\",\"522150\",\"09-07-1980\",\"F\",\"3.4\",\"branca\",\"41\",\"sup\",\"solteiro\",\"2\",\"5\",\"2\",\"2\",\"ADELAIDE SILVA PEREIRA\",\"98\"),\n",
    "              (\"009\",\"522157\",\"02-03-1993\",\"F\",\"3.5\",\"preta\",\"39\",\"medio\",\"solteiro\",\"2\",\"6\",\"1\",\"1\",\"ACASSIA PIRES\",\"1\"),\n",
    "              (\"010\",\"522160\",\"04-06-1988\",\"M\",\"3\",\"preta\",\"36\",\"primario\",\"solteiro\",\"2\",\"4\",\"2\",\"2\",\"VAILTON COUTINHO\",\"1\"),\n",
    "              (\"011\",\"522150\",\"24-06-1985\",\"F\",\"3\",\"preta\",\"37\",\"sup\",\"solteiro\",\"2\",\"5\",\"1\",\"1\",\"001 MARINA\",\"1\"),\n",
    "               (\"012\",\"522145\",\"06-07-1999\",\"F\",\"2\",\"preta\",\"40\",\"medio\",\"solteiro\",\"2\",\"3\",\"1\",\"1\",\"MARIA VICTORIA\",\"95\"),\n",
    "              (\"013\",\"522200\",\"09-08-1981\",\"F\",\"3\",\"branca\",\"41\",\"medio\",\"solteiro\",\"2\",\"4\",\"1\",\"1\",\"ADELAIDE SILVA\",\"98\"),\n",
    "              (\"014\",\"522160\",\"10-06-1989\",\"F\",\"2.5\",\"preta\",\"36\",\"medio\",\"solteiro\",\"2\",\"2\",\"2\",\"2\",\"ACASSIA LIMA\",\"1\"),\n",
    "               (\"015\",\"522157\",\"03-09-1977\",\"M\",\"4\",\"preta\",\"48\",\"sup\",\"solteiro\",\"2\",\"2\",\"1\",\"2\",\"ABANI MENDES\",\"1\"),\n",
    "              (\"016\",\"522155\",\"03-09-1986\",\"M\",\"3.4\",\"branca\",\"35\",\"medio\",\"solteiro\",\"3\",\"3\",\"1\",\"3\",\"ABEL COSTA\",\"98\"),\n",
    "              (\"017\",\"522157\",\"06-12-1983\",\"F\",\"3.2\",\"preta\",\"39\",\"primario\",\"solteiro\",\"1\",\"3\",\"1\",\"1\",\"MARIA PAULA SANTOS\",\"1\"),\n",
    "               (\"018\",\"522130\",\"08-07-1988\",\"M\",\"4\",\"preta\",\"36\",\"medio\",\"solteiro\",\"2\",\"3\",\"1\",\"2\",\"VAILTON COUTINHO\",\"96\"),\n",
    "               (\"019\",\"522108\",\"03-07-1985\",\"F\",\"3.4\",\"preta\",\"34\",\"sup\",\"solteiro\",\"2\",\"2\",\"2\",\"1\",\"ADAIAS OLIVEIRA SILVA\",\"1\"),\n",
    "              (\"020\",\"522155\",\"09-06-1984\",\"F\",\"3.5\",\"preta\",\"33\",\"medio\",\"solteiro\",\"2\",\"3\",\"2\",\"1\",\"CAMILA SILVA SANTORO\",\"98\"),\n",
    "              (\"021\",\"522190\",\"06-06-1999\",\"M\",\"5\",\"preta\",\"34\",\"primario\",\"solteiro\",\"2\",\"2\",\"1\",\"1\",\"ADRIANO SOUZA DE SANTANA\",\"1\"),\n",
    "              (\"022\",\"522205\",\"03-04-1986\",\"F\",\"5\",\"branca\",\"35\",\"medio\",\"solteiro\",\"2\",\"5\",\"1\",\"1\",\"MARIA PAULA\",\"97\"),\n",
    "              (\"023\",\"522140\",\"01-05-1984\",\"M\",\"3.2\",\"preta\",\"39\",\"medio\",\"solteiro\",\"2\",\"3\",\"1\",\"1\",\"ADALBERTO VALETIN\",\"1\")\n",
    "                ]\n",
    "\n",
    "schema = StructType([\\\n",
    "                     StructField(\"idcinasc\",StringType(),True), \\\n",
    "                     StructField(\"munic_nascimento\",StringType(),True), \\\n",
    "                     StructField(\"datanasc\",StringType(),True), \\\n",
    "                     StructField(\"sexo\",StringType(),True), \\\n",
    "                     StructField(\"pesonasci\",StringType(),True), \\\n",
    "                     StructField(\"racacor\",StringType(),True), \\\n",
    "                     StructField(\"idademae\",StringType(),True), \\\n",
    "                     StructField(\"escolaridade\",StringType(),True), \\\n",
    "                     StructField(\"estadocivil\",StringType(),True), \\\n",
    "                     StructField(\"numfilhos_vivos_anteriores\",StringType(),True), \\\n",
    "                     StructField(\"idadegestacional\",StringType(),True), \\\n",
    "                     StructField(\"tipoparto\",StringType(),True), \\\n",
    "                     StructField(\"Numero_Consultas_PNatal\",StringType(),True), \\\n",
    "                     StructField(\"nome\",StringType(), True), \\\n",
    "                     StructField(\"score_Linkage\",StringType(),True) \\\n",
    "                    ])\n",
    "\n",
    "BASE_SIM = spark.createDataFrame(data=BASE_SIM,schema=schema)\n",
    "BASE_SIM.printSchema()\n",
    "BASE_SIM.show(truncate=False)"
   ]
  },
  {
   "cell_type": "markdown",
   "metadata": {},
   "source": [
    "# AND"
   ]
  },
  {
   "cell_type": "code",
   "execution_count": null,
   "metadata": {},
   "outputs": [],
   "source": []
  }
 ],
 "metadata": {
  "kernelspec": {
   "display_name": "Python 3",
   "language": "python",
   "name": "python3"
  },
  "language_info": {
   "codemirror_mode": {
    "name": "ipython",
    "version": 3
   },
   "file_extension": ".py",
   "mimetype": "text/x-python",
   "name": "python",
   "nbconvert_exporter": "python",
   "pygments_lexer": "ipython3",
   "version": "3.7.3"
  }
 },
 "nbformat": 4,
 "nbformat_minor": 2
}
